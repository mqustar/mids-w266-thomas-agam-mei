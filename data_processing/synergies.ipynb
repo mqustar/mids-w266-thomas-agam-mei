{
 "cells": [
  {
   "cell_type": "code",
   "execution_count": 5,
   "metadata": {},
   "outputs": [],
   "source": [
    "import pandas as pd\n",
    "import numpy as np\n",
    "import re\n",
    "from tqdm import tqdm\n",
    "\n",
    "from sklearn.preprocessing import OneHotEncoder\n"
   ]
  },
  {
   "cell_type": "code",
   "execution_count": 6,
   "metadata": {},
   "outputs": [],
   "source": [
    "# The ids do not match between the two datasets, so we will need to do something suspicious...\n",
    "def extract_numbers(s):\n",
    "    # Pull out just the set number\n",
    "    match = re.findall(r'\\d+', s)\n",
    "    return ''.join(match).strip('0') if match else None"
   ]
  },
  {
   "cell_type": "code",
   "execution_count": 7,
   "metadata": {},
   "outputs": [],
   "source": [
    "\n",
    "def encode_decklists(decklists, vocabulary):\n",
    "    encoder = OneHotEncoder(categories=[vocabulary], sparse_output=False)\n",
    "    encoder.fit(np.array(vocabulary).reshape(-1, 1))\n",
    "    one_hot_vectors = np.array([encoder.transform(np.array(decklist).reshape(-1,1)).sum(axis=0) for decklist in tqdm(decklists)])\n",
    "    return one_hot_vectors\n"
   ]
  },
  {
   "cell_type": "code",
   "execution_count": 28,
   "metadata": {},
   "outputs": [
    {
     "data": {
      "text/html": [
       "<div>\n",
       "<style scoped>\n",
       "    .dataframe tbody tr th:only-of-type {\n",
       "        vertical-align: middle;\n",
       "    }\n",
       "\n",
       "    .dataframe tbody tr th {\n",
       "        vertical-align: top;\n",
       "    }\n",
       "\n",
       "    .dataframe thead th {\n",
       "        text-align: right;\n",
       "    }\n",
       "</style>\n",
       "<table border=\"1\" class=\"dataframe\">\n",
       "  <thead>\n",
       "    <tr style=\"text-align: right;\">\n",
       "      <th></th>\n",
       "      <th>id</th>\n",
       "      <th>set</th>\n",
       "      <th>series</th>\n",
       "      <th>publisher</th>\n",
       "      <th>generation</th>\n",
       "      <th>release_date</th>\n",
       "      <th>artist</th>\n",
       "      <th>name</th>\n",
       "      <th>set_num</th>\n",
       "      <th>types</th>\n",
       "      <th>...</th>\n",
       "      <th>regulationMark</th>\n",
       "      <th>ancientTrait</th>\n",
       "      <th>cleaned_attacks</th>\n",
       "      <th>cleaned_abilities</th>\n",
       "      <th>cleaned_rules</th>\n",
       "      <th>2021_exception</th>\n",
       "      <th>temp_id</th>\n",
       "      <th>power_level</th>\n",
       "      <th>tournamentYear</th>\n",
       "      <th>name_card</th>\n",
       "    </tr>\n",
       "  </thead>\n",
       "  <tbody>\n",
       "    <tr>\n",
       "      <th>0</th>\n",
       "      <td>bw7-46</td>\n",
       "      <td>Boundaries Crossed</td>\n",
       "      <td>Black &amp; White</td>\n",
       "      <td>TPCI</td>\n",
       "      <td>Fifth</td>\n",
       "      <td>11/7/2012</td>\n",
       "      <td>Kouki Saitou</td>\n",
       "      <td>Cryogonal</td>\n",
       "      <td>46</td>\n",
       "      <td>['Water']</td>\n",
       "      <td>...</td>\n",
       "      <td>none</td>\n",
       "      <td>none</td>\n",
       "      <td>name: Ice Edge cost: Water Colorless converted...</td>\n",
       "      <td>none</td>\n",
       "      <td>none</td>\n",
       "      <td>False</td>\n",
       "      <td>46-cryogonal</td>\n",
       "      <td>0.003788</td>\n",
       "      <td>2021</td>\n",
       "      <td>NaN</td>\n",
       "    </tr>\n",
       "    <tr>\n",
       "      <th>1</th>\n",
       "      <td>xy5-24</td>\n",
       "      <td>Primal Clash</td>\n",
       "      <td>XY</td>\n",
       "      <td>TPCI</td>\n",
       "      <td>Sixth</td>\n",
       "      <td>2/4/2015</td>\n",
       "      <td>Kagemaru Himeno</td>\n",
       "      <td>Magcargo</td>\n",
       "      <td>24</td>\n",
       "      <td>['Fire']</td>\n",
       "      <td>...</td>\n",
       "      <td>none</td>\n",
       "      <td>{'name': 'Ω Barrier', 'text': 'Whenever your o...</td>\n",
       "      <td>name: Ram cost: Fire Colorless convertedEnergy...</td>\n",
       "      <td>none</td>\n",
       "      <td>none</td>\n",
       "      <td>False</td>\n",
       "      <td>24-magcargo</td>\n",
       "      <td>0.060606</td>\n",
       "      <td>2021</td>\n",
       "      <td>NaN</td>\n",
       "    </tr>\n",
       "    <tr>\n",
       "      <th>2</th>\n",
       "      <td>smp-SM107</td>\n",
       "      <td>SM Black Star Promos</td>\n",
       "      <td>Sun &amp; Moon</td>\n",
       "      <td>TPCI</td>\n",
       "      <td>Seventh</td>\n",
       "      <td>2/3/2017</td>\n",
       "      <td>Shin Nagasawa</td>\n",
       "      <td>Dusk Mane Necrozma</td>\n",
       "      <td>SM107</td>\n",
       "      <td>['Metal']</td>\n",
       "      <td>...</td>\n",
       "      <td>none</td>\n",
       "      <td>none</td>\n",
       "      <td>name: Dusk Shot cost: Metal convertedEnergyCos...</td>\n",
       "      <td>none</td>\n",
       "      <td>none</td>\n",
       "      <td>True</td>\n",
       "      <td>107-duskmanenecrozma</td>\n",
       "      <td>0.003788</td>\n",
       "      <td>2021</td>\n",
       "      <td>NaN</td>\n",
       "    </tr>\n",
       "    <tr>\n",
       "      <th>3</th>\n",
       "      <td>smp-SM117</td>\n",
       "      <td>SM Black Star Promos</td>\n",
       "      <td>Sun &amp; Moon</td>\n",
       "      <td>TPCI</td>\n",
       "      <td>Seventh</td>\n",
       "      <td>2/3/2017</td>\n",
       "      <td>Shin Nagasawa</td>\n",
       "      <td>Malamar</td>\n",
       "      <td>SM117</td>\n",
       "      <td>['Psychic']</td>\n",
       "      <td>...</td>\n",
       "      <td>none</td>\n",
       "      <td>none</td>\n",
       "      <td>name: Psychic Sphere cost: Psychic Psychic Col...</td>\n",
       "      <td>name: Psychic Recharge text: Once during your ...</td>\n",
       "      <td>none</td>\n",
       "      <td>True</td>\n",
       "      <td>117-malamar</td>\n",
       "      <td>0.011364</td>\n",
       "      <td>2021</td>\n",
       "      <td>NaN</td>\n",
       "    </tr>\n",
       "    <tr>\n",
       "      <th>4</th>\n",
       "      <td>smp-SM151</td>\n",
       "      <td>SM Black Star Promos</td>\n",
       "      <td>Sun &amp; Moon</td>\n",
       "      <td>TPCI</td>\n",
       "      <td>Seventh</td>\n",
       "      <td>2/3/2017</td>\n",
       "      <td>Shin Nagasawa</td>\n",
       "      <td>Giratina</td>\n",
       "      <td>SM151</td>\n",
       "      <td>['Psychic']</td>\n",
       "      <td>...</td>\n",
       "      <td>none</td>\n",
       "      <td>none</td>\n",
       "      <td>name: Shadow Impact cost: Psychic Psychic Colo...</td>\n",
       "      <td>name: Distortion Door text: \"Once during your ...</td>\n",
       "      <td>none</td>\n",
       "      <td>True</td>\n",
       "      <td>151-giratina</td>\n",
       "      <td>0.003788</td>\n",
       "      <td>2021</td>\n",
       "      <td>NaN</td>\n",
       "    </tr>\n",
       "  </tbody>\n",
       "</table>\n",
       "<p>5 rows × 37 columns</p>\n",
       "</div>"
      ],
      "text/plain": [
       "          id                   set         series publisher generation  \\\n",
       "0     bw7-46    Boundaries Crossed  Black & White      TPCI      Fifth   \n",
       "1     xy5-24          Primal Clash             XY      TPCI      Sixth   \n",
       "2  smp-SM107  SM Black Star Promos     Sun & Moon      TPCI    Seventh   \n",
       "3  smp-SM117  SM Black Star Promos     Sun & Moon      TPCI    Seventh   \n",
       "4  smp-SM151  SM Black Star Promos     Sun & Moon      TPCI    Seventh   \n",
       "\n",
       "  release_date           artist                name set_num        types  ...  \\\n",
       "0    11/7/2012     Kouki Saitou           Cryogonal      46    ['Water']  ...   \n",
       "1     2/4/2015  Kagemaru Himeno            Magcargo      24     ['Fire']  ...   \n",
       "2     2/3/2017    Shin Nagasawa  Dusk Mane Necrozma   SM107    ['Metal']  ...   \n",
       "3     2/3/2017    Shin Nagasawa             Malamar   SM117  ['Psychic']  ...   \n",
       "4     2/3/2017    Shin Nagasawa            Giratina   SM151  ['Psychic']  ...   \n",
       "\n",
       "  regulationMark                                       ancientTrait  \\\n",
       "0           none                                               none   \n",
       "1           none  {'name': 'Ω Barrier', 'text': 'Whenever your o...   \n",
       "2           none                                               none   \n",
       "3           none                                               none   \n",
       "4           none                                               none   \n",
       "\n",
       "                                     cleaned_attacks  \\\n",
       "0  name: Ice Edge cost: Water Colorless converted...   \n",
       "1  name: Ram cost: Fire Colorless convertedEnergy...   \n",
       "2  name: Dusk Shot cost: Metal convertedEnergyCos...   \n",
       "3  name: Psychic Sphere cost: Psychic Psychic Col...   \n",
       "4  name: Shadow Impact cost: Psychic Psychic Colo...   \n",
       "\n",
       "                                   cleaned_abilities cleaned_rules  \\\n",
       "0                                               none          none   \n",
       "1                                               none          none   \n",
       "2                                               none          none   \n",
       "3  name: Psychic Recharge text: Once during your ...          none   \n",
       "4  name: Distortion Door text: \"Once during your ...          none   \n",
       "\n",
       "  2021_exception               temp_id power_level tournamentYear name_card  \n",
       "0          False          46-cryogonal    0.003788           2021       NaN  \n",
       "1          False           24-magcargo    0.060606           2021       NaN  \n",
       "2           True  107-duskmanenecrozma    0.003788           2021       NaN  \n",
       "3           True           117-malamar    0.011364           2021       NaN  \n",
       "4           True          151-giratina    0.003788           2021       NaN  \n",
       "\n",
       "[5 rows x 37 columns]"
      ]
     },
     "execution_count": 28,
     "metadata": {},
     "output_type": "execute_result"
    }
   ],
   "source": [
    "rotation_name = 'standard_2021'\n",
    "pokemon_df = pd.read_csv(f'output/{rotation_name}_pokemon_power_level.csv')\n",
    "trainer_df = pd.read_csv(f'output/{rotation_name}_trainer_power_level.csv')\n",
    "trainer_df['temp_id'] = trainer_df['name']\n",
    "combined_df = pd.concat([pokemon_df, trainer_df])\n",
    "combined_df.head()\n",
    "\n"
   ]
  },
  {
   "cell_type": "code",
   "execution_count": 29,
   "metadata": {},
   "outputs": [],
   "source": [
    "decks_df = pd.read_csv('tournaments.csv')\n",
    "decks_df = decks_df[decks_df['rotation_name']==rotation_name]\n",
    "# decks_df = decks_df[~decks_df['rotation_name'].isin(['standard_2021', 'standard_2022', 'standard_2023', 'standard_2024'])]\n",
    "decks_df['temp_id'] = decks_df['id_card'].apply(extract_numbers) + '-' + decks_df['name_card'].str.replace('Pokemon Card Gym Medal', 'heliolisk').str.replace('Palace Book', 'zubat').str.replace(' ', '').str.lower()\n",
    "decks_df['temp_id'] = decks_df.apply(lambda row: row.name_card if row.type_card=='Trainer' else row.temp_id, axis=1)\n",
    "decks_df = decks_df[decks_df['name_card'] != 'Mewtwo V-UNION'] # mewtwo not in cards data"
   ]
  },
  {
   "cell_type": "code",
   "execution_count": 30,
   "metadata": {},
   "outputs": [
    {
     "data": {
      "text/html": [
       "<div>\n",
       "<style scoped>\n",
       "    .dataframe tbody tr th:only-of-type {\n",
       "        vertical-align: middle;\n",
       "    }\n",
       "\n",
       "    .dataframe tbody tr th {\n",
       "        vertical-align: top;\n",
       "    }\n",
       "\n",
       "    .dataframe thead th {\n",
       "        text-align: right;\n",
       "    }\n",
       "</style>\n",
       "<table border=\"1\" class=\"dataframe\">\n",
       "  <thead>\n",
       "    <tr style=\"text-align: right;\">\n",
       "      <th></th>\n",
       "      <th>id_player</th>\n",
       "      <th>id_tournament</th>\n",
       "      <th>decklist</th>\n",
       "    </tr>\n",
       "  </thead>\n",
       "  <tbody>\n",
       "    <tr>\n",
       "      <th>0</th>\n",
       "      <td>1440</td>\n",
       "      <td>292</td>\n",
       "      <td>[191-mewtwo&amp;mew-gx, 8-galarianzapdosv, 57-dede...</td>\n",
       "    </tr>\n",
       "    <tr>\n",
       "      <th>1</th>\n",
       "      <td>1604</td>\n",
       "      <td>289</td>\n",
       "      <td>[161-jirachi, 32-blacephalon, 52-blacephalon-g...</td>\n",
       "    </tr>\n",
       "    <tr>\n",
       "      <th>2</th>\n",
       "      <td>1804</td>\n",
       "      <td>289</td>\n",
       "      <td>[18-zacianv, 19-zamazentav, 192-lucario&amp;melmet...</td>\n",
       "    </tr>\n",
       "    <tr>\n",
       "      <th>3</th>\n",
       "      <td>1807</td>\n",
       "      <td>289</td>\n",
       "      <td>[98-coalossalv, 99-coalossalvmax, 23-slugma, 2...</td>\n",
       "    </tr>\n",
       "    <tr>\n",
       "      <th>4</th>\n",
       "      <td>1833</td>\n",
       "      <td>289</td>\n",
       "      <td>[168-pikachu&amp;zekrom-gx, 6-vikavoltv, 161-jirac...</td>\n",
       "    </tr>\n",
       "    <tr>\n",
       "      <th>...</th>\n",
       "      <td>...</td>\n",
       "      <td>...</td>\n",
       "      <td>...</td>\n",
       "    </tr>\n",
       "    <tr>\n",
       "      <th>61</th>\n",
       "      <td>3410</td>\n",
       "      <td>292</td>\n",
       "      <td>[33-centiskorchv, 34-centiskorchvmax, 179-volc...</td>\n",
       "    </tr>\n",
       "    <tr>\n",
       "      <th>62</th>\n",
       "      <td>3413</td>\n",
       "      <td>292</td>\n",
       "      <td>[156-arceus&amp;dialga&amp;palkia-gx, 18-zacianv, 141-...</td>\n",
       "    </tr>\n",
       "    <tr>\n",
       "      <th>63</th>\n",
       "      <td>3414</td>\n",
       "      <td>292</td>\n",
       "      <td>[87-rapidstrikeurshifuv, 88-rapidstrikeurshifu...</td>\n",
       "    </tr>\n",
       "    <tr>\n",
       "      <th>64</th>\n",
       "      <td>3415</td>\n",
       "      <td>292</td>\n",
       "      <td>[104-victiniv, 22-victinivmax, 191-mewtwo&amp;mew-...</td>\n",
       "    </tr>\n",
       "    <tr>\n",
       "      <th>65</th>\n",
       "      <td>3416</td>\n",
       "      <td>292</td>\n",
       "      <td>[201-reshiram&amp;charizard-gx, 32-blacephalon, 25...</td>\n",
       "    </tr>\n",
       "  </tbody>\n",
       "</table>\n",
       "<p>66 rows × 3 columns</p>\n",
       "</div>"
      ],
      "text/plain": [
       "    id_player  id_tournament  \\\n",
       "0        1440            292   \n",
       "1        1604            289   \n",
       "2        1804            289   \n",
       "3        1807            289   \n",
       "4        1833            289   \n",
       "..        ...            ...   \n",
       "61       3410            292   \n",
       "62       3413            292   \n",
       "63       3414            292   \n",
       "64       3415            292   \n",
       "65       3416            292   \n",
       "\n",
       "                                             decklist  \n",
       "0   [191-mewtwo&mew-gx, 8-galarianzapdosv, 57-dede...  \n",
       "1   [161-jirachi, 32-blacephalon, 52-blacephalon-g...  \n",
       "2   [18-zacianv, 19-zamazentav, 192-lucario&melmet...  \n",
       "3   [98-coalossalv, 99-coalossalvmax, 23-slugma, 2...  \n",
       "4   [168-pikachu&zekrom-gx, 6-vikavoltv, 161-jirac...  \n",
       "..                                                ...  \n",
       "61  [33-centiskorchv, 34-centiskorchvmax, 179-volc...  \n",
       "62  [156-arceus&dialga&palkia-gx, 18-zacianv, 141-...  \n",
       "63  [87-rapidstrikeurshifuv, 88-rapidstrikeurshifu...  \n",
       "64  [104-victiniv, 22-victinivmax, 191-mewtwo&mew-...  \n",
       "65  [201-reshiram&charizard-gx, 32-blacephalon, 25...  \n",
       "\n",
       "[66 rows x 3 columns]"
      ]
     },
     "execution_count": 30,
     "metadata": {},
     "output_type": "execute_result"
    }
   ],
   "source": [
    "decklists = decks_df.groupby(['id_player', 'id_tournament'])['temp_id'].apply(list).reset_index(name='decklist')\n",
    "decklists"
   ]
  },
  {
   "cell_type": "code",
   "execution_count": 31,
   "metadata": {},
   "outputs": [
    {
     "name": "stderr",
     "output_type": "stream",
     "text": [
      "100%|██████████| 66/66 [00:00<00:00, 634.21it/s]\n"
     ]
    }
   ],
   "source": [
    "card_ids = combined_df['id'] # for later use\n",
    "vocabulary = combined_df['temp_id'] # temp_id is already unique\n",
    "decklists_encoded = encode_decklists(decklists['decklist'], vocabulary)"
   ]
  },
  {
   "cell_type": "code",
   "execution_count": 32,
   "metadata": {},
   "outputs": [
    {
     "name": "stderr",
     "output_type": "stream",
     "text": [
      "100%|██████████| 66/66 [00:00<00:00, 4021.03it/s]\n"
     ]
    }
   ],
   "source": [
    "idx_to_card = {i:card for i, card in enumerate(vocabulary)}\n",
    "card_matrix = np.zeros((len(vocabulary), len(vocabulary)))\n",
    "\n",
    "card_counts = np.zeros(len(vocabulary)) # store a count of each card occurrence\n",
    "\n",
    "for decklist in tqdm(decklists_encoded):\n",
    "    for idx, indicator in enumerate(decklist):\n",
    "        if indicator!=0: # if the card is in the deck\n",
    "            card_counts[idx] += 1\n",
    "            card_matrix[idx] += decklist\n"
   ]
  },
  {
   "cell_type": "code",
   "execution_count": 33,
   "metadata": {},
   "outputs": [
    {
     "data": {
      "text/plain": [
       "True"
      ]
     },
     "execution_count": 33,
     "metadata": {},
     "output_type": "execute_result"
    }
   ],
   "source": [
    "np.all(card_matrix.T == card_matrix)"
   ]
  },
  {
   "cell_type": "code",
   "execution_count": 34,
   "metadata": {},
   "outputs": [
    {
     "name": "stderr",
     "output_type": "stream",
     "text": [
      "C:\\Users\\tcl17\\AppData\\Local\\Temp\\ipykernel_25844\\3326242909.py:1: RuntimeWarning: invalid value encountered in divide\n",
      "  card_synergies = np.nan_to_num(card_matrix/card_counts.reshape(-1,1)/card_counts.reshape(1,-1)) # need to convert nan to 0 because some cards never occur\n"
     ]
    }
   ],
   "source": [
    "card_synergies = np.nan_to_num(card_matrix/card_counts.reshape(-1,1)/card_counts.reshape(1,-1)) # need to convert nan to 0 because some cards never occur\n",
    "np.fill_diagonal(card_synergies, 0) # make synergy with self zero"
   ]
  },
  {
   "cell_type": "code",
   "execution_count": 35,
   "metadata": {},
   "outputs": [],
   "source": [
    "usecols = ['id', 'regulationMark', 'hp', 'name', 'types', 'subtypes', 'evolvesFrom', 'evolvesTo', 'weaknesses', 'convertedRetreatCost', 'resistances', 'cleaned_attacks', 'cleaned_abilities', 'cleaned_rules', 'tournamentYear']\n",
    "export_df = combined_df[usecols]\n",
    "export_df.loc[:, card_ids] = card_synergies"
   ]
  },
  {
   "cell_type": "code",
   "execution_count": 36,
   "metadata": {},
   "outputs": [],
   "source": [
    "export_df.to_csv(f'output/{rotation_name}_synergies.csv', index=False)"
   ]
  },
  {
   "cell_type": "code",
   "execution_count": 37,
   "metadata": {},
   "outputs": [
    {
     "name": "stdout",
     "output_type": "stream",
     "text": [
      "98-crobatv\n",
      "Reset Stamp\n",
      "Switch\n",
      "Boss's Orders\n",
      "Quick Ball\n"
     ]
    }
   ],
   "source": [
    "n = 5\n",
    "top_n = np.argsort(card_matrix.sum(axis=1))[-5:]\n",
    "for i in top_n:\n",
    "    print(idx_to_card[i])"
   ]
  },
  {
   "cell_type": "code",
   "execution_count": null,
   "metadata": {},
   "outputs": [],
   "source": []
  },
  {
   "cell_type": "code",
   "execution_count": null,
   "metadata": {},
   "outputs": [],
   "source": []
  },
  {
   "cell_type": "code",
   "execution_count": null,
   "metadata": {},
   "outputs": [],
   "source": []
  },
  {
   "cell_type": "code",
   "execution_count": null,
   "metadata": {},
   "outputs": [],
   "source": []
  },
  {
   "cell_type": "code",
   "execution_count": null,
   "metadata": {},
   "outputs": [],
   "source": []
  },
  {
   "cell_type": "code",
   "execution_count": null,
   "metadata": {},
   "outputs": [],
   "source": []
  },
  {
   "cell_type": "code",
   "execution_count": null,
   "metadata": {},
   "outputs": [],
   "source": []
  },
  {
   "cell_type": "code",
   "execution_count": null,
   "metadata": {},
   "outputs": [],
   "source": []
  },
  {
   "cell_type": "code",
   "execution_count": null,
   "metadata": {},
   "outputs": [],
   "source": []
  }
 ],
 "metadata": {
  "kernelspec": {
   "display_name": "cs180",
   "language": "python",
   "name": "python3"
  },
  "language_info": {
   "codemirror_mode": {
    "name": "ipython",
    "version": 3
   },
   "file_extension": ".py",
   "mimetype": "text/x-python",
   "name": "python",
   "nbconvert_exporter": "python",
   "pygments_lexer": "ipython3",
   "version": "3.11.5"
  }
 },
 "nbformat": 4,
 "nbformat_minor": 2
}
