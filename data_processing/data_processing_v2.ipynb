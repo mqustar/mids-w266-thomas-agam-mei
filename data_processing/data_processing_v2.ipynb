{
 "cells": [
  {
   "cell_type": "code",
   "execution_count": 1,
   "metadata": {},
   "outputs": [],
   "source": [
    "import numpy as np\n",
    "import pandas as pd\n",
    "import re\n",
    "import os\n",
    "\n",
    "CARDS_DATA_INPUT_FILE = \"pokemon-tcg-data-master 1999-2023.csv\"\n",
    "DECKS_DATA_INPUT_FILE = \"tournaments.csv\"\n",
    "OUTPUT_DIR = \"output/\"\n",
    "os.makedirs(OUTPUT_DIR, exist_ok=True)\n",
    "\n",
    "# Import data\n",
    "\n",
    "cards_data = pd.read_csv(CARDS_DATA_INPUT_FILE).fillna(\"none\")\n",
    "decks = pd.read_csv(DECKS_DATA_INPUT_FILE)\n",
    "\n",
    "##############\n",
    "# Clean data #\n",
    "##############\n",
    "\n",
    "# List of characters to remove\n",
    "chars_to_remove = [\"[\", \"]\", \"{\", \"}\", \"'\", \",\"]\n",
    "pattern = f\"[{re.escape(''.join(chars_to_remove))}]\"\n",
    "\n",
    "cards_data[\"cleaned_attacks\"] = cards_data[\"attacks\"].str.replace(\n",
    "    pattern, \"\", regex=True\n",
    ")\n",
    "cards_data[\"cleaned_abilities\"] = cards_data[\"abilities\"].str.replace(\n",
    "    pattern, \"\", regex=True\n",
    ")\n",
    "cards_data[\"cleaned_rules\"] = cards_data[\"rules\"].str.replace(pattern, \"\", regex=True)\n",
    "\n",
    "\n"
   ]
  },
  {
   "cell_type": "code",
   "execution_count": 53,
   "metadata": {},
   "outputs": [],
   "source": [
    "trainers = cards_data.loc[cards_data[\"supertype\"] == \"Trainer\"]\n",
    "pokemon = cards_data.loc[cards_data[\"supertype\"] != \"Trainer\"]"
   ]
  },
  {
   "cell_type": "code",
   "execution_count": 81,
   "metadata": {},
   "outputs": [],
   "source": [
    "years_to_regulation = {\n",
    " 'standard_2024': ['G'], \n",
    " 'standard_2023': ['E', 'F'], \n",
    " 'standard_2022': ['D', 'E'], \n",
    " 'standard_2021': ['D'],\n",
    " 'pre_2021': ['none']\n",
    "}\n",
    "\n",
    "trainer_power_levels = {}\n",
    "\n",
    "valid_years = set(['standard_2024', 'standard_2023', 'standard_2022', 'standard_2021'])\n",
    "decks['temp_years'] = decks['rotation_name'].apply(lambda year: year if year in valid_years else 'pre_2021')\n",
    "for year_name in ['standard_2024', 'standard_2023', 'standard_2022', 'standard_2021', 'pre_2021']:\n",
    "    # Keep only cards in decks from the correct year\n",
    "    decks_year = decks.loc[decks['temp_years'] == year_name]\n",
    "    \n",
    "    # Keep only cards that were in the valid regulations for that year\n",
    "    trainers_year = trainers.loc[trainers['regulationMark'].isin(years_to_regulation[year_name])]\n",
    "    \n",
    "    # Remove duplicates. Trainer cards can be de-duped by just removing duplicate name \n",
    "    trainers_year = trainers_year.drop_duplicates(subset=[\"name\"])\n",
    "    \n",
    "    # Create a new DataFrame of trainer cards in tournament decks\n",
    "    decks_year_only_trainers = decks_year.loc[decks_year['name_card'].isin(trainers_year['name'])]\n",
    "    \n",
    "    # Calculate the count of each trainer cards that were used in tournament decks\n",
    "    card_counts = decks_year_only_trainers.groupby('name_card')[['amount_card']].sum()\n",
    "    \n",
    "    # Count the number of decks in that year\n",
    "    decks_count = decks_year.drop_duplicates(subset=['name_player', 'id_tournament']).shape[0]\n",
    "    \n",
    "    # Compute power level\n",
    "    power_levels = card_counts.rename(columns={'amount_card':'power_level'})/decks_count/4\n",
    "    \n",
    "    # Combine power level with the card data. Neither dfs should have any duplicate card names\n",
    "    trainers_year = trainers_year.merge(power_levels.reset_index(), left_on='name', right_on='name_card', how='left')\n",
    "    \n",
    "    # Fill in missing power levels with 0\n",
    "    trainers_year['power_level'] = trainers_year['power_level'].fillna(0)\n",
    "    \n",
    "    # Store in dictionary\n",
    "    trainer_power_levels[year_name] = trainers_year\n",
    "\n",
    "    # We only have tournament data up until 2023, so there is no valid power level data for 2024\n",
    "    if year_name == 'standard_2024':\n",
    "        trainer_power_levels[year_name].drop(columns='power_level', inplace=True) # No play rate data for 2024\n",
    "    "
   ]
  },
  {
   "cell_type": "markdown",
   "metadata": {},
   "source": [
    "## Non-trainer cards\n",
    "Non-trainer cards are much harder to handle because there are duplicate card names. The only way to distinguish the cards is by using the IDs, which do not match conveniently. "
   ]
  },
  {
   "cell_type": "code",
   "execution_count": 66,
   "metadata": {},
   "outputs": [],
   "source": [
    "# The ids do not match between the two datasets, so we will need to do something suspicious...\n",
    "def extract_numbers(s):\n",
    "    # Pull out just the set number\n",
    "    match = re.findall(r'\\d+', s)\n",
    "    return ''.join(match).strip('0') if match else None"
   ]
  },
  {
   "cell_type": "code",
   "execution_count": null,
   "metadata": {},
   "outputs": [
    {
     "name": "stderr",
     "output_type": "stream",
     "text": [
      "C:\\Users\\tcl17\\AppData\\Local\\Temp\\ipykernel_24872\\737140450.py:13: SettingWithCopyWarning: \n",
      "A value is trying to be set on a copy of a slice from a DataFrame.\n",
      "Try using .loc[row_indexer,col_indexer] = value instead\n",
      "\n",
      "See the caveats in the documentation: https://pandas.pydata.org/pandas-docs/stable/user_guide/indexing.html#returning-a-view-versus-a-copy\n",
      "  pokemon_year['temp_id'] = pokemon_year['set_num'].apply(extract_numbers) + '-' + pokemon_year['name'].str.replace('Team Flare Hyper Gear', '').str.replace('Team Flare Gear', '').str.replace(' ', '').str.lower()\n",
      "C:\\Users\\tcl17\\AppData\\Local\\Temp\\ipykernel_24872\\737140450.py:13: SettingWithCopyWarning: \n",
      "A value is trying to be set on a copy of a slice from a DataFrame.\n",
      "Try using .loc[row_indexer,col_indexer] = value instead\n",
      "\n",
      "See the caveats in the documentation: https://pandas.pydata.org/pandas-docs/stable/user_guide/indexing.html#returning-a-view-versus-a-copy\n",
      "  pokemon_year['temp_id'] = pokemon_year['set_num'].apply(extract_numbers) + '-' + pokemon_year['name'].str.replace('Team Flare Hyper Gear', '').str.replace('Team Flare Gear', '').str.replace(' ', '').str.lower()\n",
      "C:\\Users\\tcl17\\AppData\\Local\\Temp\\ipykernel_24872\\737140450.py:14: SettingWithCopyWarning: \n",
      "A value is trying to be set on a copy of a slice from a DataFrame.\n",
      "Try using .loc[row_indexer,col_indexer] = value instead\n",
      "\n",
      "See the caveats in the documentation: https://pandas.pydata.org/pandas-docs/stable/user_guide/indexing.html#returning-a-view-versus-a-copy\n",
      "  decks_year['temp_id'] = decks_year['id_card'].apply(extract_numbers) + '-' + decks_year['name_card'].str.replace('Pokemon Card Gym Medal', 'heliolisk').str.replace('Palace Book', 'zubat').str.replace(' ', '').str.lower()\n",
      "C:\\Users\\tcl17\\AppData\\Local\\Temp\\ipykernel_24872\\737140450.py:13: SettingWithCopyWarning: \n",
      "A value is trying to be set on a copy of a slice from a DataFrame.\n",
      "Try using .loc[row_indexer,col_indexer] = value instead\n",
      "\n",
      "See the caveats in the documentation: https://pandas.pydata.org/pandas-docs/stable/user_guide/indexing.html#returning-a-view-versus-a-copy\n",
      "  pokemon_year['temp_id'] = pokemon_year['set_num'].apply(extract_numbers) + '-' + pokemon_year['name'].str.replace('Team Flare Hyper Gear', '').str.replace('Team Flare Gear', '').str.replace(' ', '').str.lower()\n",
      "C:\\Users\\tcl17\\AppData\\Local\\Temp\\ipykernel_24872\\737140450.py:14: SettingWithCopyWarning: \n",
      "A value is trying to be set on a copy of a slice from a DataFrame.\n",
      "Try using .loc[row_indexer,col_indexer] = value instead\n",
      "\n",
      "See the caveats in the documentation: https://pandas.pydata.org/pandas-docs/stable/user_guide/indexing.html#returning-a-view-versus-a-copy\n",
      "  decks_year['temp_id'] = decks_year['id_card'].apply(extract_numbers) + '-' + decks_year['name_card'].str.replace('Pokemon Card Gym Medal', 'heliolisk').str.replace('Palace Book', 'zubat').str.replace(' ', '').str.lower()\n",
      "C:\\Users\\tcl17\\AppData\\Local\\Temp\\ipykernel_24872\\737140450.py:13: SettingWithCopyWarning: \n",
      "A value is trying to be set on a copy of a slice from a DataFrame.\n",
      "Try using .loc[row_indexer,col_indexer] = value instead\n",
      "\n",
      "See the caveats in the documentation: https://pandas.pydata.org/pandas-docs/stable/user_guide/indexing.html#returning-a-view-versus-a-copy\n",
      "  pokemon_year['temp_id'] = pokemon_year['set_num'].apply(extract_numbers) + '-' + pokemon_year['name'].str.replace('Team Flare Hyper Gear', '').str.replace('Team Flare Gear', '').str.replace(' ', '').str.lower()\n",
      "C:\\Users\\tcl17\\AppData\\Local\\Temp\\ipykernel_24872\\737140450.py:14: SettingWithCopyWarning: \n",
      "A value is trying to be set on a copy of a slice from a DataFrame.\n",
      "Try using .loc[row_indexer,col_indexer] = value instead\n",
      "\n",
      "See the caveats in the documentation: https://pandas.pydata.org/pandas-docs/stable/user_guide/indexing.html#returning-a-view-versus-a-copy\n",
      "  decks_year['temp_id'] = decks_year['id_card'].apply(extract_numbers) + '-' + decks_year['name_card'].str.replace('Pokemon Card Gym Medal', 'heliolisk').str.replace('Palace Book', 'zubat').str.replace(' ', '').str.lower()\n",
      "C:\\Users\\tcl17\\AppData\\Local\\Temp\\ipykernel_24872\\737140450.py:13: SettingWithCopyWarning: \n",
      "A value is trying to be set on a copy of a slice from a DataFrame.\n",
      "Try using .loc[row_indexer,col_indexer] = value instead\n",
      "\n",
      "See the caveats in the documentation: https://pandas.pydata.org/pandas-docs/stable/user_guide/indexing.html#returning-a-view-versus-a-copy\n",
      "  pokemon_year['temp_id'] = pokemon_year['set_num'].apply(extract_numbers) + '-' + pokemon_year['name'].str.replace('Team Flare Hyper Gear', '').str.replace('Team Flare Gear', '').str.replace(' ', '').str.lower()\n",
      "C:\\Users\\tcl17\\AppData\\Local\\Temp\\ipykernel_24872\\737140450.py:14: SettingWithCopyWarning: \n",
      "A value is trying to be set on a copy of a slice from a DataFrame.\n",
      "Try using .loc[row_indexer,col_indexer] = value instead\n",
      "\n",
      "See the caveats in the documentation: https://pandas.pydata.org/pandas-docs/stable/user_guide/indexing.html#returning-a-view-versus-a-copy\n",
      "  decks_year['temp_id'] = decks_year['id_card'].apply(extract_numbers) + '-' + decks_year['name_card'].str.replace('Pokemon Card Gym Medal', 'heliolisk').str.replace('Palace Book', 'zubat').str.replace(' ', '').str.lower()\n"
     ]
    }
   ],
   "source": [
    "pokemon_power_levels = {}\n",
    "\n",
    "for year_name in ['standard_2024', 'standard_2023', 'standard_2022', 'standard_2021', 'pre_2021']:\n",
    "    # Keep only cards in decks from the correct year\n",
    "    decks_year = decks.loc[decks['temp_years'] == year_name]\n",
    "    \n",
    "    # Keep only cards that were in the valid regulations for that year\n",
    "    pokemon_year = pokemon.loc[pokemon['regulationMark'].isin(years_to_regulation[year_name])]\n",
    "\n",
    "    # Create the feature which we will join on... this is a bit of a hack\n",
    "    # There are also typos in the data which need to be fixed\n",
    "    # Basically it is taking the card number from the set and the name of the card, making a mostly unique identifier\n",
    "    pokemon_year['temp_id'] = pokemon_year['set_num'].apply(extract_numbers) + '-' + pokemon_year['name'].str.replace('Team Flare Hyper Gear', '').str.replace('Team Flare Gear', '').str.replace(' ', '').str.lower()\n",
    "    decks_year['temp_id'] = decks_year['id_card'].apply(extract_numbers) + '-' + decks_year['name_card'].str.replace('Pokemon Card Gym Medal', 'heliolisk').str.replace('Palace Book', 'zubat').str.replace(' ', '').str.lower()\n",
    "\n",
    "    # Calculate the count of each pokemon cards that were used in tournament decks\n",
    "    card_counts = decks_year.groupby('temp_id')[['amount_card']].sum()\n",
    "    \n",
    "    # Count the number of decks in that year\n",
    "    decks_count = decks_year.drop_duplicates(subset=['name_player', 'id_tournament']).shape[0]\n",
    "    \n",
    "    # Computer power level\n",
    "    power_levels = card_counts.rename(columns={'amount_card':'power_level'})/decks_count/4\n",
    "    \n",
    "    # Merge on the temp_id. There should be no duplicates\n",
    "    pokemon_year = pokemon_year.merge(power_levels.reset_index(), on='temp_id', how='left')\n",
    "    \n",
    "    # Fill in missing power levels with 0\n",
    "    pokemon_year['power_level'] = pokemon_year['power_level'].fillna(0)\n",
    "    \n",
    "    # Store in dictionary\n",
    "    pokemon_power_levels[year_name] = pokemon_year\n",
    "    \n",
    "    if year_name == 'standard_2024':\n",
    "        pokemon_power_levels[year_name].drop(columns='power_level', inplace=True) # No play rate data for 2024\n"
   ]
  },
  {
   "cell_type": "markdown",
   "metadata": {},
   "source": [
    "### Export"
   ]
  },
  {
   "cell_type": "code",
   "execution_count": 83,
   "metadata": {},
   "outputs": [
    {
     "name": "stdout",
     "output_type": "stream",
     "text": [
      "Saved standard_2024_trainer_power_level.csv\n",
      "Saved standard_2023_trainer_power_level.csv\n",
      "Saved standard_2022_trainer_power_level.csv\n",
      "Saved standard_2021_trainer_power_level.csv\n",
      "Saved pre_2021_trainer_power_level.csv\n",
      "Saved standard_2024_pokemon_power_level.csv\n",
      "Saved standard_2023_pokemon_power_level.csv\n",
      "Saved standard_2022_pokemon_power_level.csv\n",
      "Saved standard_2021_pokemon_power_level.csv\n",
      "Saved pre_2021_pokemon_power_level.csv\n"
     ]
    }
   ],
   "source": [
    "for name, df in trainer_power_levels.items():\n",
    "    df.to_csv(f\"{OUTPUT_DIR}{name}_trainer_power_level.csv\", index=False)\n",
    "    print(f\"Saved {name}_trainer_power_level.csv\")\n",
    "\n",
    "for name, df in pokemon_power_levels.items():\n",
    "    df.to_csv(f\"{OUTPUT_DIR}{name}_pokemon_power_level.csv\", index=False)\n",
    "    print(f\"Saved {name}_pokemon_power_level.csv\")\n"
   ]
  },
  {
   "cell_type": "code",
   "execution_count": null,
   "metadata": {},
   "outputs": [],
   "source": []
  },
  {
   "cell_type": "code",
   "execution_count": null,
   "metadata": {},
   "outputs": [],
   "source": []
  }
 ],
 "metadata": {
  "kernelspec": {
   "display_name": "cs180",
   "language": "python",
   "name": "python3"
  },
  "language_info": {
   "codemirror_mode": {
    "name": "ipython",
    "version": 3
   },
   "file_extension": ".py",
   "mimetype": "text/x-python",
   "name": "python",
   "nbconvert_exporter": "python",
   "pygments_lexer": "ipython3",
   "version": "3.11.5"
  }
 },
 "nbformat": 4,
 "nbformat_minor": 2
}
