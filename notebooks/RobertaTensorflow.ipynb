{
 "cells": [
  {
   "cell_type": "code",
   "execution_count": null,
   "metadata": {
    "colab": {
     "base_uri": "https://localhost:8080/"
    },
    "executionInfo": {
     "elapsed": 44431,
     "status": "ok",
     "timestamp": 1744219009196,
     "user": {
      "displayName": "Thomas Lee",
      "userId": "17550240093265420877"
     },
     "user_tz": 420
    },
    "id": "G6aD5BrYdRiG",
    "outputId": "35e07489-6e1f-4cf2-8e81-ea87e4804334"
   },
   "outputs": [],
   "source": [
    "from google.colab import drive\n",
    "drive.mount(\"/content/drive/\")\n",
    "\n",
    "\n",
    "import numpy as np\n",
    "import pandas as pd\n",
    "import tensorflow as tf\n",
    "from tensorflow import keras\n",
    "from transformers import RobertaTokenizer, TFRobertaForSequenceClassification\n",
    "from sklearn.model_selection import train_test_split\n",
    "import matplotlib.pyplot as plt\n",
    "import seaborn as sns\n",
    "from tqdm import tqdm\n"
   ]
  },
  {
   "cell_type": "code",
   "execution_count": null,
   "metadata": {
    "executionInfo": {
     "elapsed": 4698,
     "status": "ok",
     "timestamp": 1744219013896,
     "user": {
      "displayName": "Thomas Lee",
      "userId": "17550240093265420877"
     },
     "user_tz": 420
    },
    "id": "IYoyGTtXdUmw"
   },
   "outputs": [],
   "source": [
    "usecols = ['id', 'regulationMark', 'hp', 'name', 'types', 'subtypes', 'evolvesFrom', 'evolvesTo', 'weaknesses', 'convertedRetreatCost', 'resistances', 'cleaned_attacks', 'cleaned_abilities', 'cleaned_rules', 'tournamentYear']\n",
    "\n",
    "pokemon_2021 = pd.read_csv('/content/drive/MyDrive/266/project/standard_2021_pokemon_power_level.csv')\n",
    "pokemon_2022 = pd.read_csv('/content/drive/MyDrive/266/project/standard_2022_pokemon_power_level.csv')\n",
    "pokemon_2023 = pd.read_csv('/content/drive/MyDrive/266/project/standard_2023_pokemon_power_level.csv')\n",
    "trainer_2021 = pd.read_csv('/content/drive/MyDrive/266/project/standard_2021_trainer_power_level.csv')\n",
    "trainer_2022 = pd.read_csv('/content/drive/MyDrive/266/project/standard_2022_trainer_power_level.csv')\n",
    "trainer_2023 = pd.read_csv('/content/drive/MyDrive/266/project/standard_2023_trainer_power_level.csv')\n"
   ]
  },
  {
   "cell_type": "code",
   "execution_count": null,
   "metadata": {
    "executionInfo": {
     "elapsed": 19,
     "status": "ok",
     "timestamp": 1744222541450,
     "user": {
      "displayName": "Thomas Lee",
      "userId": "17550240093265420877"
     },
     "user_tz": 420
    },
    "id": "zOQQKVfPeOzJ"
   },
   "outputs": [],
   "source": [
    "train_trainers_dat_x = pd.concat([trainer_2021, trainer_2022])[['id', 'name', 'cleaned_rules']]\n",
    "test_trainers_dat_x = trainer_2023[['id', 'name', 'cleaned_rules']]\n",
    "\n",
    "train_pokemon_dat_x = pd.concat([pokemon_2021, pokemon_2022])[usecols]\n",
    "test_pokemon_dat_x = pokemon_2023[usecols]\n",
    "\n",
    "train_trainers_dat_y = pd.concat([trainer_2021, trainer_2022])['power_level'].to_numpy()\n",
    "test_trainers_dat_y = trainer_2023['power_level'].to_numpy()\n",
    "\n",
    "train_pokemon_dat_y = pd.concat([pokemon_2021, pokemon_2022])['power_level'].to_numpy()\n",
    "test_pokemon_dat_y = pokemon_2023['power_level'].to_numpy()"
   ]
  },
  {
   "cell_type": "markdown",
   "metadata": {
    "id": "bk58srYZfRvy"
   },
   "source": [
    "Pokemon"
   ]
  },
  {
   "cell_type": "code",
   "execution_count": null,
   "metadata": {
    "executionInfo": {
     "elapsed": 7535,
     "status": "ok",
     "timestamp": 1744223231373,
     "user": {
      "displayName": "Thomas Lee",
      "userId": "17550240093265420877"
     },
     "user_tz": 420
    },
    "id": "x6wmZtT6dsvg"
   },
   "outputs": [],
   "source": [
    "def combine_features(row):\n",
    "    return ' '.join(row.values.astype(str))\n",
    "\n",
    "tokenizer = RobertaTokenizer.from_pretrained('roberta-base')\n",
    "max_length = 512\n",
    "\n",
    "# Tokenize text\n",
    "train_trainers_tokenized_text = tokenizer(\n",
    "    train_trainers_dat_x[['id', 'cleaned_rules']].apply(combine_features, axis=1).tolist(),\n",
    "    padding=\"max_length\",\n",
    "    truncation=True,\n",
    "    max_length=max_length,\n",
    "    return_tensors='tf'\n",
    ")\n",
    "\n",
    "# Tokenize text\n",
    "test_trainers_tokenized_text = tokenizer(\n",
    "    test_trainers_dat_x[['id', 'cleaned_rules']].apply(combine_features, axis=1).tolist(),\n",
    "    padding=\"max_length\",\n",
    "    truncation=True,\n",
    "    max_length=max_length,\n",
    "    return_tensors='tf'\n",
    ")\n",
    "\n",
    "# Tokenize text\n",
    "train_pokemon_tokenized_text = tokenizer(\n",
    "    train_pokemon_dat_x[usecols].apply(combine_features, axis=1).tolist(),\n",
    "    padding=\"max_length\",\n",
    "    truncation=True,\n",
    "    max_length=max_length,\n",
    "    return_tensors='tf'\n",
    ")\n",
    "\n",
    "# Tokenize text\n",
    "test_pokemon_tokenized_text = tokenizer(\n",
    "    test_pokemon_dat_x[usecols].apply(combine_features, axis=1).tolist(),\n",
    "    padding=\"max_length\",\n",
    "    truncation=True,\n",
    "    max_length=max_length,\n",
    "    return_tensors='tf'\n",
    ")\n"
   ]
  },
  {
   "cell_type": "code",
   "execution_count": null,
   "metadata": {
    "colab": {
     "base_uri": "https://localhost:8080/"
    },
    "executionInfo": {
     "elapsed": 1552,
     "status": "ok",
     "timestamp": 1744221342413,
     "user": {
      "displayName": "Thomas Lee",
      "userId": "17550240093265420877"
     },
     "user_tz": 420
    },
    "id": "vYuwwSqOfoOz",
    "outputId": "98232a2d-a948-4647-e440-855197970186"
   },
   "outputs": [],
   "source": [
    "roberta_model = TFRobertaForSequenceClassification.from_pretrained('roberta-base', num_labels=1, output_hidden_states=True, output_attentions=True)"
   ]
  },
  {
   "cell_type": "code",
   "execution_count": null,
   "metadata": {
    "colab": {
     "base_uri": "https://localhost:8080/"
    },
    "executionInfo": {
     "elapsed": 2778,
     "status": "ok",
     "timestamp": 1744221345479,
     "user": {
      "displayName": "Thomas Lee",
      "userId": "17550240093265420877"
     },
     "user_tz": 420
    },
    "id": "ek_fAzWAf-kC",
    "outputId": "963798aa-ad90-483e-d0e1-72841cebd18f"
   },
   "outputs": [],
   "source": [
    "# Create model\n",
    "\n",
    "input_ids = keras.Input(shape=(max_length,), dtype=tf.int32, name=\"input_ids\")\n",
    "attention_mask = keras.Input(shape=(max_length,), dtype=tf.int32, name=\"attention_mask\")\n",
    "\n",
    "roberta_output = roberta_model(input_ids=input_ids, attention_mask=attention_mask)\n",
    "\n",
    "logits = roberta_output.logits\n",
    "\n",
    "model = keras.Model(inputs=[input_ids, attention_mask], outputs=logits)\n",
    "model.summary()"
   ]
  },
  {
   "cell_type": "code",
   "execution_count": null,
   "metadata": {
    "colab": {
     "base_uri": "https://localhost:8080/"
    },
    "executionInfo": {
     "elapsed": 891780,
     "status": "ok",
     "timestamp": 1744222237258,
     "user": {
      "displayName": "Thomas Lee",
      "userId": "17550240093265420877"
     },
     "user_tz": 420
    },
    "id": "kykcciRahorz",
    "outputId": "9f84c40a-7554-4691-9a11-5ee30e93174b"
   },
   "outputs": [],
   "source": [
    "model.compile(\n",
    "    optimizer=tf.keras.optimizers.Adam(learning_rate=2e-5),\n",
    "    loss='mse',\n",
    "    metrics=[tf.keras.metrics.MeanAbsoluteError()],\n",
    ")\n",
    "\n",
    "history = model.fit(\n",
    "    x=dict(train_trainers_tokenized_text),\n",
    "    y=train_trainers_dat_y.reshape(-1,1),\n",
    "    batch_size=8,\n",
    "    epochs=20,\n",
    "    validation_split=0.2\n",
    ")"
   ]
  },
  {
   "cell_type": "code",
   "execution_count": null,
   "metadata": {
    "executionInfo": {
     "elapsed": 77583,
     "status": "ok",
     "timestamp": 1744222314844,
     "user": {
      "displayName": "Thomas Lee",
      "userId": "17550240093265420877"
     },
     "user_tz": 420
    },
    "id": "QfxMPzznq6Fi"
   },
   "outputs": [],
   "source": [
    "roberta_model_filename = \"RoBERTa_trainer_fine_tuned_v1\"\n",
    "model_filename = \"RoBERTa_trainer_model.keras_v1\"\n",
    "\n",
    "roberta_model.save_pretrained(f\"/content/drive/MyDrive/266/project/{roberta_model_filename}\")\n",
    "model.save(f\"/content/drive/MyDrive/266/project/{model_filename}\")\n",
    "# bert_model = TFRobertaForSequenceClassification.from_pretrained(f\"/content/drive/MyDrive/266/project/{roberta_model_filename}\")\n",
    "#loaded_model = keras.saving.load_model(f\"/content/drive/MyDrive/266/project/{model_filename}\")"
   ]
  },
  {
   "cell_type": "code",
   "execution_count": null,
   "metadata": {
    "executionInfo": {
     "elapsed": 1,
     "status": "ok",
     "timestamp": 1744226687353,
     "user": {
      "displayName": "Thomas Lee",
      "userId": "17550240093265420877"
     },
     "user_tz": 420
    },
    "id": "5j6jFfADswOj"
   },
   "outputs": [],
   "source": [
    "def attention_heatmap(tokens, attention_matrix, offset=1, figsize=(20,16)):\n",
    "  tokens = np.array(tokens)\n",
    "  tokens_pad_idx = np.argmax(tokens == '<pad>')\n",
    "  if tokens_pad_idx == 0: # no pad\n",
    "    tokens_pad_idx = len(tokens)\n",
    "  df = pd.DataFrame(\n",
    "      attention_matrix[offset:tokens_pad_idx-1, offset:tokens_pad_idx-1],\n",
    "      index=[tkn.replace('Ġ', '') for tkn in tokens[offset:tokens_pad_idx-1]],\n",
    "      columns=[tkn.replace('Ġ', '') for tkn in tokens[offset:tokens_pad_idx-1]]\n",
    "  )\n",
    "  plt.figure(figsize=figsize)\n",
    "  sns.heatmap(df, annot=False, cmap='Blues')"
   ]
  },
  {
   "cell_type": "code",
   "execution_count": null,
   "metadata": {
    "executionInfo": {
     "elapsed": 3912,
     "status": "ok",
     "timestamp": 1744222589034,
     "user": {
      "displayName": "Thomas Lee",
      "userId": "17550240093265420877"
     },
     "user_tz": 420
    },
    "id": "i7TeZxOsrqvK"
   },
   "outputs": [],
   "source": [
    "idx = np.argsort(test_trainers_dat_y)[::-1]\n",
    "sorted_test_dat_y = test_trainers_dat_y[idx][:10]\n",
    "sorted_test_dat_x = test_trainers_dat_x.iloc[idx,:].iloc[:10,:]\n",
    "\n",
    "X_test_tokenized = tokenizer(\n",
    "    sorted_test_dat_x[['id', 'cleaned_rules']].apply(combine_features, axis=1).tolist(),\n",
    "    padding=\"max_length\",\n",
    "    truncation=True,\n",
    "    max_length=max_length,\n",
    "    return_tensors='tf'\n",
    ")\n",
    "\n",
    "roberta_outputs = roberta_model(\n",
    "    input_ids=X_test_tokenized['input_ids'],\n",
    "    attention_mask=X_test_tokenized['attention_mask'],\n",
    ")\n",
    "\n",
    "attentions = roberta_outputs.attentions\n",
    "attentions = np.array([att.numpy() for att in attentions])  # Convert to NumPy array. Shape [12, batch_size, 12, num_tokens, num_tokens]. The 12 is number of layers. The other 12 is number of attention heads.\n"
   ]
  },
  {
   "cell_type": "code",
   "execution_count": null,
   "metadata": {
    "executionInfo": {
     "elapsed": 286,
     "status": "ok",
     "timestamp": 1744222589317,
     "user": {
      "displayName": "Thomas Lee",
      "userId": "17550240093265420877"
     },
     "user_tz": 420
    },
    "id": "6B56wxRAwfrp"
   },
   "outputs": [],
   "source": [
    "pairwise_attentions = attentions.mean(axis=(0, 2)) # Shape [batch_size, num_tokens, num_tokens]"
   ]
  },
  {
   "cell_type": "code",
   "execution_count": null,
   "metadata": {
    "colab": {
     "base_uri": "https://localhost:8080/",
     "height": 1000
    },
    "executionInfo": {
     "elapsed": 2236,
     "status": "ok",
     "timestamp": 1744222888402,
     "user": {
      "displayName": "Thomas Lee",
      "userId": "17550240093265420877"
     },
     "user_tz": 420
    },
    "id": "QESqSTv9tJfc",
    "outputId": "1aad1920-d6e2-4b1e-9e4c-2c4c6343d2b7"
   },
   "outputs": [],
   "source": [
    "attention_heatmap(\n",
    "    tokenizer.convert_ids_to_tokens(X_test_tokenized[\"input_ids\"].numpy()[0]),\n",
    "    pairwise_attentions[0],\n",
    "    offset=6\n",
    ")\n",
    "\n",
    "plt.title(sorted_test_dat_x['name'].iloc[0], fontsize=24);"
   ]
  },
  {
   "cell_type": "code",
   "execution_count": null,
   "metadata": {
    "colab": {
     "base_uri": "https://localhost:8080/",
     "height": 1000
    },
    "executionInfo": {
     "elapsed": 1146,
     "status": "ok",
     "timestamp": 1744222937713,
     "user": {
      "displayName": "Thomas Lee",
      "userId": "17550240093265420877"
     },
     "user_tz": 420
    },
    "id": "XYzD22k5ybfn",
    "outputId": "9990a497-f31a-4f06-c753-211a920d0454"
   },
   "outputs": [],
   "source": [
    "attention_heatmap(\n",
    "    tokenizer.convert_ids_to_tokens(X_test_tokenized[\"input_ids\"].numpy()[1]),\n",
    "    pairwise_attentions[1],\n",
    "    offset=6\n",
    ")\n",
    "\n",
    "plt.title(sorted_test_dat_x['name'].iloc[1], fontsize=24);"
   ]
  },
  {
   "cell_type": "code",
   "execution_count": null,
   "metadata": {
    "colab": {
     "base_uri": "https://localhost:8080/",
     "height": 1000
    },
    "executionInfo": {
     "elapsed": 794,
     "status": "ok",
     "timestamp": 1744222994200,
     "user": {
      "displayName": "Thomas Lee",
      "userId": "17550240093265420877"
     },
     "user_tz": 420
    },
    "id": "M7dJnkEhymEG",
    "outputId": "3adb1353-2110-42bb-dbaa-5886ddda5bd6"
   },
   "outputs": [],
   "source": [
    "attention_heatmap(\n",
    "    tokenizer.convert_ids_to_tokens(X_test_tokenized[\"input_ids\"].numpy()[3]),\n",
    "    pairwise_attentions[3],\n",
    "    offset=8\n",
    ")\n",
    "\n",
    "plt.title(sorted_test_dat_x['name'].iloc[3], fontsize=24);"
   ]
  },
  {
   "cell_type": "code",
   "execution_count": null,
   "metadata": {
    "colab": {
     "base_uri": "https://localhost:8080/"
    },
    "executionInfo": {
     "elapsed": 6426,
     "status": "ok",
     "timestamp": 1744223086057,
     "user": {
      "displayName": "Thomas Lee",
      "userId": "17550240093265420877"
     },
     "user_tz": 420
    },
    "id": "5fBJgsQ8y4SH",
    "outputId": "bafa4ac0-54bf-4c80-9093-2f8615cc3570"
   },
   "outputs": [],
   "source": [
    "roberta_model_pokemon = TFRobertaForSequenceClassification.from_pretrained('roberta-base', num_labels=1, output_hidden_states=True, output_attentions=True)"
   ]
  },
  {
   "cell_type": "code",
   "execution_count": null,
   "metadata": {
    "colab": {
     "base_uri": "https://localhost:8080/"
    },
    "executionInfo": {
     "elapsed": 2876,
     "status": "ok",
     "timestamp": 1744223325781,
     "user": {
      "displayName": "Thomas Lee",
      "userId": "17550240093265420877"
     },
     "user_tz": 420
    },
    "id": "mSwcOWZ_y4PP",
    "outputId": "6ca53f13-2a12-4c61-9876-5757c35fefca"
   },
   "outputs": [],
   "source": [
    "# Create model\n",
    "\n",
    "input_ids_pokemon = keras.Input(shape=(max_length,), dtype=tf.int32, name=\"input_ids\")\n",
    "attention_mask_pokemon = keras.Input(shape=(max_length,), dtype=tf.int32, name=\"attention_mask\")\n",
    "\n",
    "roberta_output_pokemon = roberta_model_pokemon(input_ids=input_ids_pokemon, attention_mask=attention_mask_pokemon)\n",
    "\n",
    "logits_pokemon = roberta_output_pokemon.logits\n",
    "\n",
    "model_pokemon = keras.Model(inputs=[input_ids_pokemon, attention_mask_pokemon], outputs=logits_pokemon)\n",
    "model_pokemon.summary()"
   ]
  },
  {
   "cell_type": "code",
   "execution_count": null,
   "metadata": {
    "colab": {
     "base_uri": "https://localhost:8080/"
    },
    "executionInfo": {
     "elapsed": 2452302,
     "status": "ok",
     "timestamp": 1744225795645,
     "user": {
      "displayName": "Thomas Lee",
      "userId": "17550240093265420877"
     },
     "user_tz": 420
    },
    "id": "JWZ9YjUmzEKH",
    "outputId": "c4ea2e74-2783-479a-be2a-ea87bebf911c"
   },
   "outputs": [],
   "source": [
    "model_pokemon.compile(\n",
    "    optimizer=tf.keras.optimizers.Adam(learning_rate=2e-5),\n",
    "    loss='mse',\n",
    "    metrics=[tf.keras.metrics.MeanAbsoluteError()],\n",
    ")\n",
    "\n",
    "history = model_pokemon.fit(\n",
    "    x=dict(train_pokemon_tokenized_text),\n",
    "    y=train_pokemon_dat_y.reshape(-1,1),\n",
    "    batch_size=8,\n",
    "    epochs=10,\n",
    "    validation_split=0.2\n",
    ")"
   ]
  },
  {
   "cell_type": "code",
   "execution_count": null,
   "metadata": {
    "executionInfo": {
     "elapsed": 225553,
     "status": "ok",
     "timestamp": 1744226229572,
     "user": {
      "displayName": "Thomas Lee",
      "userId": "17550240093265420877"
     },
     "user_tz": 420
    },
    "id": "sg3rBBlkzEHP"
   },
   "outputs": [],
   "source": [
    "roberta_model_filename = \"RoBERTa_pokemon_fine_tuned_v1\"\n",
    "model_filename = \"RoBERTa_pokemon_model.keras_v1\"\n",
    "\n",
    "roberta_model_pokemon.save_pretrained(f\"/content/drive/MyDrive/266/project/{roberta_model_filename}\")\n",
    "model_pokemon.save(f\"/content/drive/MyDrive/266/project/{model_filename}\")\n",
    "# bert_model = TFRobertaForSequenceClassification.from_pretrained(f\"/content/drive/MyDrive/266/project/{roberta_model_filename}\")\n",
    "#loaded_model = keras.saving.load_model(f\"/content/drive/MyDrive/266/project/{model_filename}\")"
   ]
  },
  {
   "cell_type": "code",
   "execution_count": null,
   "metadata": {
    "executionInfo": {
     "elapsed": 3921,
     "status": "ok",
     "timestamp": 1744226514690,
     "user": {
      "displayName": "Thomas Lee",
      "userId": "17550240093265420877"
     },
     "user_tz": 420
    },
    "id": "MVwaRqUizEEw"
   },
   "outputs": [],
   "source": [
    "idx = np.argsort(test_pokemon_dat_y)[::-1]\n",
    "sorted_test_dat_y = test_pokemon_dat_y[idx][:10]\n",
    "sorted_test_dat_x = test_pokemon_dat_x.iloc[idx,:].iloc[:10,:]\n",
    "\n",
    "X_test_tokenized = tokenizer(\n",
    "    sorted_test_dat_x[usecols].apply(combine_features, axis=1).tolist(),\n",
    "    padding=\"max_length\",\n",
    "    truncation=True,\n",
    "    max_length=max_length,\n",
    "    return_tensors='tf'\n",
    ")\n",
    "\n",
    "roberta_outputs = roberta_model(\n",
    "    input_ids=X_test_tokenized['input_ids'],\n",
    "    attention_mask=X_test_tokenized['attention_mask'],\n",
    ")\n",
    "\n",
    "attentions = roberta_outputs.attentions\n",
    "attentions = np.array([att.numpy() for att in attentions])  # Convert to NumPy array. Shape [12, batch_size, 12, num_tokens, num_tokens]. The 12 is number of layers. The other 12 is number of attention heads.\n"
   ]
  },
  {
   "cell_type": "code",
   "execution_count": null,
   "metadata": {
    "executionInfo": {
     "elapsed": 193,
     "status": "ok",
     "timestamp": 1744226516066,
     "user": {
      "displayName": "Thomas Lee",
      "userId": "17550240093265420877"
     },
     "user_tz": 420
    },
    "id": "qqSzB-s-_JTr"
   },
   "outputs": [],
   "source": [
    "pairwise_attentions = attentions.mean(axis=(0, 2)) # Shape [batch_size, num_tokens, num_tokens]"
   ]
  },
  {
   "cell_type": "code",
   "execution_count": null,
   "metadata": {
    "colab": {
     "base_uri": "https://localhost:8080/",
     "height": 1000
    },
    "executionInfo": {
     "elapsed": 1682,
     "status": "ok",
     "timestamp": 1744226744469,
     "user": {
      "displayName": "Thomas Lee",
      "userId": "17550240093265420877"
     },
     "user_tz": 420
    },
    "id": "bLgTRJFv_NFr",
    "outputId": "38ff664e-bb37-48d8-df63-58372ab8582f"
   },
   "outputs": [],
   "source": [
    "attention_heatmap(\n",
    "    tokenizer.convert_ids_to_tokens(X_test_tokenized[\"input_ids\"].numpy()[0]),\n",
    "    pairwise_attentions[0],\n",
    "    offset=24,\n",
    "    figsize=(30, 24),\n",
    "\n",
    ")\n",
    "\n",
    "plt.title(f\"{sorted_test_dat_x['name'].iloc[0]}: {sorted_test_dat_x['id'].iloc[0]}\", fontsize=24);"
   ]
  },
  {
   "cell_type": "code",
   "execution_count": null,
   "metadata": {
    "colab": {
     "base_uri": "https://localhost:8080/",
     "height": 1000
    },
    "executionInfo": {
     "elapsed": 1508,
     "status": "ok",
     "timestamp": 1744226774168,
     "user": {
      "displayName": "Thomas Lee",
      "userId": "17550240093265420877"
     },
     "user_tz": 420
    },
    "id": "_hL-LbhY_Rxa",
    "outputId": "49420220-335c-4830-a9ed-4a704453bf99"
   },
   "outputs": [],
   "source": [
    "attention_heatmap(\n",
    "    tokenizer.convert_ids_to_tokens(X_test_tokenized[\"input_ids\"].numpy()[1]),\n",
    "    pairwise_attentions[1],\n",
    "    offset=28,\n",
    "    figsize=(30, 24),\n",
    ")\n",
    "\n",
    "plt.title(f\"{sorted_test_dat_x['name'].iloc[1]}: {sorted_test_dat_x['id'].iloc[1]}\", fontsize=24);"
   ]
  },
  {
   "cell_type": "code",
   "execution_count": null,
   "metadata": {
    "colab": {
     "base_uri": "https://localhost:8080/",
     "height": 1000
    },
    "executionInfo": {
     "elapsed": 1766,
     "status": "ok",
     "timestamp": 1744226797164,
     "user": {
      "displayName": "Thomas Lee",
      "userId": "17550240093265420877"
     },
     "user_tz": 420
    },
    "id": "msdjH9zB_aba",
    "outputId": "49b2bbc2-5f93-49a0-c435-0907bbf09f45"
   },
   "outputs": [],
   "source": [
    "attention_heatmap(\n",
    "    tokenizer.convert_ids_to_tokens(X_test_tokenized[\"input_ids\"].numpy()[2]),\n",
    "    pairwise_attentions[2],\n",
    "    offset=28,\n",
    "    figsize=(30, 24),\n",
    ")\n",
    "\n",
    "plt.title(f\"{sorted_test_dat_x['name'].iloc[2]}: {sorted_test_dat_x['id'].iloc[2]}\", fontsize=24);"
   ]
  },
  {
   "cell_type": "code",
   "execution_count": null,
   "metadata": {
    "id": "_Ywrcb62AYZa"
   },
   "outputs": [],
   "source": []
  }
 ],
 "metadata": {
  "accelerator": "GPU",
  "colab": {
   "authorship_tag": "ABX9TyPzO38RoxRP3mhf7qwgZwDR",
   "gpuType": "T4",
   "provenance": []
  },
  "kernelspec": {
   "display_name": "Python 3",
   "name": "python3"
  },
  "language_info": {
   "name": "python"
  }
 },
 "nbformat": 4,
 "nbformat_minor": 0
}
