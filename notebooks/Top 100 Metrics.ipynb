{
 "cells": [
  {
   "cell_type": "code",
   "execution_count": null,
   "metadata": {
    "executionInfo": {
     "elapsed": 24,
     "status": "ok",
     "timestamp": 1744430145943,
     "user": {
      "displayName": "Mei Qu",
      "userId": "09525309215537323761"
     },
     "user_tz": 420
    },
    "id": "ht8SsqyMjFd2"
   },
   "outputs": [],
   "source": [
    "import torch\n",
    "from transformers import AutoModelForSequenceClassification, AutoTokenizer\n",
    "import numpy as np\n",
    "\n",
    "def run_inference_and_print_top100(model_path, X_test, y_test, test_df, max_length=512, batch_size=8, print_results=True):\n",
    "    device = torch.device(\"cuda\" if torch.cuda.is_available() else \"cpu\")\n",
    "\n",
    "    model = AutoModelForSequenceClassification.from_pretrained(model_path).to(device)\n",
    "    tokenizer = AutoTokenizer.from_pretrained(model_path)\n",
    "\n",
    "    encoded = tokenizer(X_test, padding=True, truncation=True, max_length=max_length, return_tensors='pt')\n",
    "\n",
    "    input_ids = encoded['input_ids'].to(device)\n",
    "    attention_mask = encoded['attention_mask'].to(device)\n",
    "\n",
    "    model.eval()\n",
    "    all_preds = []\n",
    "\n",
    "    with torch.no_grad():\n",
    "        for start_idx in range(0, len(X_test), batch_size):\n",
    "            end_idx = min(start_idx + batch_size, len(X_test))\n",
    "            batch_input_ids = input_ids[start_idx:end_idx]\n",
    "            batch_attention_mask = attention_mask[start_idx:end_idx]\n",
    "\n",
    "            outputs = model(input_ids=batch_input_ids, attention_mask=batch_attention_mask)\n",
    "            batch_preds = torch.sigmoid(outputs.logits.squeeze()).cpu().numpy()  # Sigmoid for regression output in [0,1]\n",
    "            all_preds.extend(batch_preds)\n",
    "\n",
    "    all_preds = np.array(all_preds)\n",
    "\n",
    "    names = test_df['name'].values\n",
    "\n",
    "    # Top 100 predictions by predicted value\n",
    "    top_pred_indices = np.argsort(all_preds)[-100:][::-1]\n",
    "    top_100_pred_preds = all_preds[top_pred_indices]\n",
    "    top_100_pred_actuals = np.array(y_test)[top_pred_indices]\n",
    "    top_100_pred_names = names[top_pred_indices]\n",
    "\n",
    "    # Top 100 actual values by actual value\n",
    "    top_actual_indices = np.argsort(np.array(y_test))[-100:][::-1]\n",
    "    top_100_actual_preds = all_preds[top_actual_indices]\n",
    "    top_100_actual_actuals = np.array(y_test)[top_actual_indices]\n",
    "    top_100_actual_names = names[top_actual_indices]\n",
    "\n",
    "    # Calculate Precision @ top 100, Recall @ top 100, F1 @ top 100\n",
    "    relevant_set = set(top_actual_indices)\n",
    "    selected_set = set(top_pred_indices)\n",
    "\n",
    "    correct_predictions = len(relevant_set.intersection(selected_set))\n",
    "\n",
    "    # Precision, Recall, F1 calculation based on the intersection\n",
    "    precision_at_100 = correct_predictions / 100  # Precision: Correct predictions in top 100 / total predictions in top 100\n",
    "    recall_at_100 = correct_predictions / len(relevant_set)  # Recall: Correct predictions in top 100 / total relevant items (top 100 actuals)\n",
    "    f1_at_100 = 2 * (precision_at_100 * recall_at_100) / (precision_at_100 + recall_at_100) if (precision_at_100 + recall_at_100) > 0 else 0\n",
    "\n",
    "    # Calculate Mean Reciprocal Rank (MRR) and Average Precision at 100 (AP@100)\n",
    "    mrr_at_100 = 0\n",
    "    ap_at_100 = 0\n",
    "    relevant_count = 0\n",
    "    cumulative_precision = 0\n",
    "\n",
    "    for idx, pred_idx in enumerate(top_pred_indices):\n",
    "        if pred_idx in relevant_set:\n",
    "            # For MRR, add the reciprocal rank (1/(rank+1))\n",
    "            mrr_at_100 += 1 / (idx + 1)\n",
    "            relevant_count += 1\n",
    "            # For AP@100, add precision at this rank\n",
    "            cumulative_precision += relevant_count / (idx + 1)\n",
    "\n",
    "    # If there are relevant items, compute AP@100\n",
    "    ap_at_100 = cumulative_precision / relevant_count if relevant_count > 0 else 0\n",
    "    # Calculate MRR as the average reciprocal rank\n",
    "    mrr_at_100 /= relevant_count if relevant_count > 0 else 1  # To avoid division by 0\n",
    "\n",
    "    if print_results:\n",
    "        print(\"\\nMetrics at Top 100:\")\n",
    "        print(\"-\" * 50)\n",
    "        print(f\"Precision @ Top 100: {precision_at_100:.4f}\")\n",
    "        print(f\"Recall @ Top 100: {recall_at_100:.4f}\")\n",
    "        print(f\"F1 @ Top 100: {f1_at_100:.4f}\")\n",
    "        print(f\"Mean Reciprocal Rank (MRR) at 100: {mrr_at_100:.4f}\")\n",
    "        print(f\"Average Precision at 100 (AP@100): {ap_at_100:.4f}\")\n",
    "\n",
    "    return precision_at_100, recall_at_100, f1_at_100, mrr_at_100, ap_at_100\n"
   ]
  },
  {
   "cell_type": "code",
   "execution_count": null,
   "metadata": {
    "colab": {
     "base_uri": "https://localhost:8080/"
    },
    "executionInfo": {
     "elapsed": 41373,
     "status": "ok",
     "timestamp": 1744430190034,
     "user": {
      "displayName": "Mei Qu",
      "userId": "09525309215537323761"
     },
     "user_tz": 420
    },
    "id": "1OZr0bRpctIx",
    "outputId": "220333f1-77f8-4ffc-deaf-59d6d1c4c439"
   },
   "outputs": [],
   "source": [
    "from google.colab import drive\n",
    "drive.mount('/content/drive')\n",
    "\n",
    "import re\n",
    "import random\n",
    "import numpy as np\n",
    "from scipy.special import softmax\n",
    "import pandas as pd\n",
    "\n",
    "from sklearn.metrics import mean_absolute_error\n",
    "import matplotlib.pyplot as plt\n",
    "import joblib\n",
    "\n",
    "import torch\n",
    "from transformers import BertTokenizer, BertForSequenceClassification, Trainer, TrainingArguments, RobertaTokenizer, RobertaForSequenceClassification, RobertaConfig, BertConfig, AutoConfig, AutoModelForSequenceClassification\n",
    "\n",
    "!pip install datasets\n",
    "!pip install optuna\n",
    "from datasets import Dataset\n",
    "from sklearn.metrics import mean_squared_error\n",
    "import os\n",
    "\n",
    "import optuna\n",
    "\n",
    "os.environ[\"WANDB_DISABLED\"] = \"true\""
   ]
  },
  {
   "cell_type": "code",
   "execution_count": null,
   "metadata": {
    "executionInfo": {
     "elapsed": 4608,
     "status": "ok",
     "timestamp": 1744430194646,
     "user": {
      "displayName": "Mei Qu",
      "userId": "09525309215537323761"
     },
     "user_tz": 420
    },
    "id": "9MeC2rNsc1NF"
   },
   "outputs": [],
   "source": [
    "usecols = ['id', 'regulationMark', 'hp', 'name', 'types', 'subtypes', 'evolvesFrom', 'evolvesTo', 'weaknesses', 'convertedRetreatCost', 'resistances', 'cleaned_attacks', 'cleaned_abilities', 'cleaned_rules', 'tournamentYear']\n",
    "\n",
    "# Path to your datasets\n",
    "pokemon_2021 = pd.read_csv('/content/drive/MyDrive/266/project/standard_2021_pokemon_power_level.csv')\n",
    "pokemon_2022 = pd.read_csv('/content/drive/MyDrive/266/project/standard_2022_pokemon_power_level.csv')\n",
    "pokemon_2023 = pd.read_csv('/content/drive/MyDrive/266/project/standard_2023_pokemon_power_level.csv')\n",
    "trainer_2021 = pd.read_csv('/content/drive/MyDrive/266/project/standard_2021_trainer_power_level.csv')\n",
    "trainer_2022 = pd.read_csv('/content/drive/MyDrive/266/project/standard_2022_trainer_power_level.csv')\n",
    "trainer_2023 = pd.read_csv('/content/drive/MyDrive/266/project/standard_2023_trainer_power_level.csv')\n",
    "\n",
    "def print_top_10_predictions(predicted_values, actual_values, test_df):\n",
    "    names = test_df['name'].values\n",
    "\n",
    "    top_10_predicted_indices = np.argsort(predicted_values)[-10:][::-1]\n",
    "\n",
    "    top_10_actual_indices = np.argsort(actual_values)[-10:][::-1]\n",
    "\n",
    "    print(\"Top 10 Highest Predicted Values:\")\n",
    "    print(\"-\" * 50)\n",
    "    for i in top_10_predicted_indices:\n",
    "        print(f\"Name: {names[i]}, Predicted: {predicted_values[i]:.4f}, Actual: {actual_values[i]:.4f}\")\n",
    "\n",
    "    print(\"\\nTop 10 Highest Actual Values:\")\n",
    "    print(\"-\" * 50)\n",
    "    for i in top_10_actual_indices:\n",
    "        print(f\"Name: {names[i]}, Actual: {actual_values[i]:.4f}, Predicted: {predicted_values[i]:.4f}\")\n",
    "\n"
   ]
  },
  {
   "cell_type": "code",
   "execution_count": null,
   "metadata": {
    "id": "0__2RB825_hC"
   },
   "outputs": [],
   "source": [
    "\n",
    "pokemon_2023['text'] = pokemon_2023[usecols].apply(lambda row: ' '.join(row.values.astype(str)), axis=1)\n",
    "test_df = pokemon_2023\n",
    "X_test = pokemon_2023['text'].tolist()\n",
    "\n",
    "y_test = pokemon_2023['power_level'].values"
   ]
  },
  {
   "cell_type": "code",
   "execution_count": null,
   "metadata": {
    "colab": {
     "base_uri": "https://localhost:8080/"
    },
    "executionInfo": {
     "elapsed": 35656,
     "status": "ok",
     "timestamp": 1744344326670,
     "user": {
      "displayName": "Mei Qu",
      "userId": "09525309215537323761"
     },
     "user_tz": 420
    },
    "id": "IOO4imUZdmK6",
    "outputId": "3d8be28c-5364-44ec-bb87-ba569f286965"
   },
   "outputs": [],
   "source": [
    "precision, recall, f1, mrr, ap = run_inference_and_print_top100(\n",
    "    model_path=\"/content/drive/MyDrive/266/project/pokemonModel2\",\n",
    "    X_test=X_test,\n",
    "    y_test=y_test,\n",
    "    test_df=test_df\n",
    ")"
   ]
  },
  {
   "cell_type": "code",
   "execution_count": null,
   "metadata": {
    "colab": {
     "base_uri": "https://localhost:8080/"
    },
    "executionInfo": {
     "elapsed": 33549,
     "status": "ok",
     "timestamp": 1744344769074,
     "user": {
      "displayName": "Mei Qu",
      "userId": "09525309215537323761"
     },
     "user_tz": 420
    },
    "id": "SToj1I3Nd3i9",
    "outputId": "8ab00319-8379-4b1f-c308-170542bb8697"
   },
   "outputs": [],
   "source": [
    "precision, recall, f1, mrr, ap = run_inference_and_print_top100(\n",
    "    model_path=\"/content/drive/MyDrive/266/project/pokemonRoberta\",\n",
    "    X_test=X_test,\n",
    "    y_test=y_test,\n",
    "    test_df=test_df\n",
    ")"
   ]
  },
  {
   "cell_type": "code",
   "execution_count": null,
   "metadata": {
    "colab": {
     "base_uri": "https://localhost:8080/"
    },
    "executionInfo": {
     "elapsed": 44042,
     "status": "ok",
     "timestamp": 1744344813115,
     "user": {
      "displayName": "Mei Qu",
      "userId": "09525309215537323761"
     },
     "user_tz": 420
    },
    "id": "2QalVWHaDGvo",
    "outputId": "82feea7a-4df7-4502-fd29-6ab874d671ad"
   },
   "outputs": [],
   "source": [
    "precision, recall, f1, mrr, ap = run_inference_and_print_top100(\n",
    "    model_path=\"/content/drive/MyDrive/266/project/pokemonRobertaDense\",\n",
    "    X_test=X_test,\n",
    "    y_test=y_test,\n",
    "    test_df=test_df\n",
    ")"
   ]
  },
  {
   "cell_type": "code",
   "execution_count": null,
   "metadata": {
    "executionInfo": {
     "elapsed": 5,
     "status": "ok",
     "timestamp": 1744430194650,
     "user": {
      "displayName": "Mei Qu",
      "userId": "09525309215537323761"
     },
     "user_tz": 420
    },
    "id": "Mh7Nyr_SDOw7"
   },
   "outputs": [],
   "source": [
    "trainer_2023['text'] = trainer_2023[usecols].apply(lambda row: ' '.join(row.values.astype(str)), axis=1)\n",
    "test_df = trainer_2023\n",
    "# X_test should be a list of strings\n",
    "X_test = trainer_2023['text'].tolist()\n",
    "\n",
    "# y_test should be the target values (can be list or array)\n",
    "y_test = trainer_2023['power_level'].values"
   ]
  },
  {
   "cell_type": "code",
   "execution_count": null,
   "metadata": {
    "colab": {
     "base_uri": "https://localhost:8080/"
    },
    "executionInfo": {
     "elapsed": 13175,
     "status": "ok",
     "timestamp": 1744344889896,
     "user": {
      "displayName": "Mei Qu",
      "userId": "09525309215537323761"
     },
     "user_tz": 420
    },
    "id": "fWs-NJYRDfaw",
    "outputId": "03df573c-7314-4360-8879-f00f25a0e801"
   },
   "outputs": [],
   "source": [
    "precision, recall, f1, mrr, ap = run_inference_and_print_top100(\n",
    "    model_path=\"/content/drive/MyDrive/266/project/trainerModel1\",\n",
    "    X_test=X_test,\n",
    "    y_test=y_test,\n",
    "    test_df=test_df\n",
    ")"
   ]
  },
  {
   "cell_type": "code",
   "execution_count": null,
   "metadata": {
    "colab": {
     "base_uri": "https://localhost:8080/"
    },
    "executionInfo": {
     "elapsed": 11955,
     "status": "ok",
     "timestamp": 1744344927629,
     "user": {
      "displayName": "Mei Qu",
      "userId": "09525309215537323761"
     },
     "user_tz": 420
    },
    "id": "lsvAvSxsDpB1",
    "outputId": "3139fb10-8dd2-4398-9618-bd937cd5219f"
   },
   "outputs": [],
   "source": [
    "precision, recall, f1, mrr, ap = run_inference_and_print_top100(\n",
    "    model_path=\"/content/drive/MyDrive/266/project/trainerRoberta2\",\n",
    "    X_test=X_test,\n",
    "    y_test=y_test,\n",
    "    test_df=test_df\n",
    ")"
   ]
  },
  {
   "cell_type": "code",
   "execution_count": null,
   "metadata": {
    "colab": {
     "base_uri": "https://localhost:8080/"
    },
    "executionInfo": {
     "elapsed": 16494,
     "status": "ok",
     "timestamp": 1744344998421,
     "user": {
      "displayName": "Mei Qu",
      "userId": "09525309215537323761"
     },
     "user_tz": 420
    },
    "id": "I8jyUkl9EBBW",
    "outputId": "75e3bf38-9d0f-423e-9749-4e2df15ba13c"
   },
   "outputs": [],
   "source": [
    "precision, recall, f1, mrr, ap = run_inference_and_print_top100(\n",
    "    model_path=\"/content/drive/MyDrive/266/project/trainerRobertaDense\",\n",
    "    X_test=X_test,\n",
    "    y_test=y_test,\n",
    "    test_df=test_df\n",
    ")"
   ]
  },
  {
   "cell_type": "code",
   "execution_count": null,
   "metadata": {
    "colab": {
     "base_uri": "https://localhost:8080/"
    },
    "executionInfo": {
     "elapsed": 15922,
     "status": "ok",
     "timestamp": 1744430210574,
     "user": {
      "displayName": "Mei Qu",
      "userId": "09525309215537323761"
     },
     "user_tz": 420
    },
    "id": "tR6G32WaIsqc",
    "outputId": "adc87af7-a185-4067-cc54-b94e6116878f"
   },
   "outputs": [],
   "source": [
    "precision, recall, f1, mrr, ap = run_inference_and_print_top100(\n",
    "    model_path=\"/content/drive/MyDrive/266/project/trainerRobertaTuned\",\n",
    "    X_test=X_test,\n",
    "    y_test=y_test,\n",
    "    test_df=test_df\n",
    ")"
   ]
  },
  {
   "cell_type": "code",
   "execution_count": null,
   "metadata": {
    "id": "qrQvdFeNI_wi"
   },
   "outputs": [],
   "source": []
  }
 ],
 "metadata": {
  "accelerator": "GPU",
  "colab": {
   "gpuType": "T4",
   "provenance": []
  },
  "kernelspec": {
   "display_name": "Python 3",
   "name": "python3"
  },
  "language_info": {
   "name": "python"
  }
 },
 "nbformat": 4,
 "nbformat_minor": 0
}
